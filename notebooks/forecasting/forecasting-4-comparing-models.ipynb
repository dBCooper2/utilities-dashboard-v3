{
 "cells": [
  {
   "cell_type": "markdown",
   "metadata": {},
   "source": [
    "# Forecasting 4: Comparing Forecasting Techniques\n",
    "\n",
    "The following notebook will compare the AutoARIMA, Prophet, and XGBoost models for predicting weather forecasts. The goal of this is to determine weighting for a mixed approach, where forecasts use weighted predictions of each model that are then averaged to produce a (hopefully) more robust measure.\n",
    "\n",
    "Let's start by importing packages and getting a couple of test datasets, then developing each of the models."
   ]
  },
  {
   "cell_type": "markdown",
   "metadata": {},
   "source": [
    "## 1. Importing Packages and Data"
   ]
  },
  {
   "cell_type": "markdown",
   "metadata": {},
   "source": [
    "### Defining Required Packages and Region Information"
   ]
  },
  {
   "cell_type": "code",
   "execution_count": 1,
   "metadata": {},
   "outputs": [],
   "source": [
    "import numpy as np\n",
    "import pandas as pd\n",
    "import datetime as dt\n",
    "\n",
    "from backend.regionweather import RegionWeather\n",
    "from backend.autoarima import AutoARIMAForecast\n",
    "from backend.prophet import ProphetForecast\n",
    "from backend.xgb import XGBoostForecast\n",
    "\n",
    "# Get the weather data for the region\n",
    "region_data = {\n",
    "    'US-FLA-FMPP': {'lat': 28.525581, 'lon': -81.536775, 'alt': 0},\n",
    "    'US-FLA-FPC': {'lat': 28.996695, 'lon': -82.886613, 'alt': 0},\n",
    "    'US-FLA-FPL': {'lat': 27.917488, 'lon': -81.450970, 'alt': 0},\n",
    "    'US-FLA-GVL': {'lat': 29.619310, 'lon': -82.328732, 'alt': 0},\n",
    "    'US-FLA-HST': {'lat': 25.456904, 'lon': -80.588092, 'alt': 0},\n",
    "    'US-FLA-JEA': {'lat': 30.390902, 'lon': -83.679837, 'alt': 0},\n",
    "    'US-FLA-SEC': {'lat': 28.805983, 'lon': -82.306291, 'alt': 0},\n",
    "    'US-FLA-TAL': {'lat': 30.437174, 'lon': -84.248042, 'alt': 0},\n",
    "    'US-FLA-TEC': {'lat': 27.959413, 'lon': -82.144821, 'alt': 0}\n",
    "}"
   ]
  },
  {
   "cell_type": "markdown",
   "metadata": {},
   "source": [
    "### Create RegionWeather Entities"
   ]
  },
  {
   "cell_type": "code",
   "execution_count": 2,
   "metadata": {},
   "outputs": [
    {
     "name": "stdout",
     "output_type": "stream",
     "text": [
      "Fetching Hourly Object...\n",
      "Hourly Object Fetched!\n",
      "Fetching Hourly Data from Object...\n",
      "Hourly Object Fetched!\n",
      "Hourly Data Cleaned!\n",
      "Fetching Daily Data...\n",
      "Daily Data Fetched!\n",
      "Fetching Weekly Data...\n",
      "Weekly Data Aggregated and Fetched!\n",
      "Fetching Monthly Data...\n",
      "Fetching Daily Data...\n",
      "Monthly Data Fetched!\n",
      "15 Minute Data Interpolated!\n"
     ]
    },
    {
     "name": "stderr",
     "output_type": "stream",
     "text": [
      "FutureWarning: 'H' is deprecated and will be removed in a future version, please use 'h' instead.\n"
     ]
    }
   ],
   "source": [
    "region_name = list(region_data.keys())[0]\n",
    "region_lat = region_data[region_name]['lat']\n",
    "region_lon = region_data[region_name]['lon']\n",
    "region_alt = region_data[region_name]['alt']\n",
    "\n",
    "end = dt.datetime.now()\n",
    "start = end - dt.timedelta(days=5)\n",
    "\n",
    "# Get the weather data for the region\n",
    "region_weather = RegionWeather(region_name, region_lat, region_lon, region_alt, start, end).to_dict()\n",
    "\n",
    "fifteen = region_weather['df_15m']\n",
    "hourly = region_weather['df_hourly']\n",
    "daily = region_weather['df_daily']"
   ]
  },
  {
   "cell_type": "markdown",
   "metadata": {},
   "source": [
    "### Create Temperature Objects\n",
    "\n",
    "Daily Data is still broken for some reason, I'll have to go back and troubleshoot that later..."
   ]
  },
  {
   "cell_type": "code",
   "execution_count": 3,
   "metadata": {},
   "outputs": [],
   "source": [
    "temp_15m = fifteen['temp'].reset_index().dropna()\n",
    "temp_15m.columns = ['ds', 'y']\n",
    "temp_15m['unique_id'] = '1'\n",
    "\n",
    "temp_hourly = hourly['temp'].reset_index().dropna()\n",
    "temp_hourly.columns = ['ds', 'y']\n",
    "temp_hourly['unique_id'] = '2'"
   ]
  },
  {
   "cell_type": "code",
   "execution_count": 4,
   "metadata": {},
   "outputs": [
    {
     "data": {
      "text/html": [
       "<div>\n",
       "<style scoped>\n",
       "    .dataframe tbody tr th:only-of-type {\n",
       "        vertical-align: middle;\n",
       "    }\n",
       "\n",
       "    .dataframe tbody tr th {\n",
       "        vertical-align: top;\n",
       "    }\n",
       "\n",
       "    .dataframe thead th {\n",
       "        text-align: right;\n",
       "    }\n",
       "</style>\n",
       "<table border=\"1\" class=\"dataframe\">\n",
       "  <thead>\n",
       "    <tr style=\"text-align: right;\">\n",
       "      <th></th>\n",
       "      <th>ds</th>\n",
       "      <th>y</th>\n",
       "      <th>unique_id</th>\n",
       "    </tr>\n",
       "  </thead>\n",
       "  <tbody>\n",
       "    <tr>\n",
       "      <th>0</th>\n",
       "      <td>2025-03-24 00:00:00</td>\n",
       "      <td>22.20</td>\n",
       "      <td>1</td>\n",
       "    </tr>\n",
       "    <tr>\n",
       "      <th>1</th>\n",
       "      <td>2025-03-24 00:15:00</td>\n",
       "      <td>21.85</td>\n",
       "      <td>1</td>\n",
       "    </tr>\n",
       "    <tr>\n",
       "      <th>2</th>\n",
       "      <td>2025-03-24 00:30:00</td>\n",
       "      <td>21.50</td>\n",
       "      <td>1</td>\n",
       "    </tr>\n",
       "    <tr>\n",
       "      <th>3</th>\n",
       "      <td>2025-03-24 00:45:00</td>\n",
       "      <td>21.15</td>\n",
       "      <td>1</td>\n",
       "    </tr>\n",
       "    <tr>\n",
       "      <th>4</th>\n",
       "      <td>2025-03-24 01:00:00</td>\n",
       "      <td>20.80</td>\n",
       "      <td>1</td>\n",
       "    </tr>\n",
       "  </tbody>\n",
       "</table>\n",
       "</div>"
      ],
      "text/plain": [
       "                   ds      y unique_id\n",
       "0 2025-03-24 00:00:00  22.20         1\n",
       "1 2025-03-24 00:15:00  21.85         1\n",
       "2 2025-03-24 00:30:00  21.50         1\n",
       "3 2025-03-24 00:45:00  21.15         1\n",
       "4 2025-03-24 01:00:00  20.80         1"
      ]
     },
     "execution_count": 4,
     "metadata": {},
     "output_type": "execute_result"
    }
   ],
   "source": [
    "temp_15m.head()"
   ]
  },
  {
   "cell_type": "code",
   "execution_count": 5,
   "metadata": {},
   "outputs": [
    {
     "data": {
      "text/html": [
       "<div>\n",
       "<style scoped>\n",
       "    .dataframe tbody tr th:only-of-type {\n",
       "        vertical-align: middle;\n",
       "    }\n",
       "\n",
       "    .dataframe tbody tr th {\n",
       "        vertical-align: top;\n",
       "    }\n",
       "\n",
       "    .dataframe thead th {\n",
       "        text-align: right;\n",
       "    }\n",
       "</style>\n",
       "<table border=\"1\" class=\"dataframe\">\n",
       "  <thead>\n",
       "    <tr style=\"text-align: right;\">\n",
       "      <th></th>\n",
       "      <th>ds</th>\n",
       "      <th>y</th>\n",
       "      <th>unique_id</th>\n",
       "    </tr>\n",
       "  </thead>\n",
       "  <tbody>\n",
       "    <tr>\n",
       "      <th>0</th>\n",
       "      <td>2025-03-24 00:00:00</td>\n",
       "      <td>22.2</td>\n",
       "      <td>2</td>\n",
       "    </tr>\n",
       "    <tr>\n",
       "      <th>1</th>\n",
       "      <td>2025-03-24 01:00:00</td>\n",
       "      <td>20.8</td>\n",
       "      <td>2</td>\n",
       "    </tr>\n",
       "    <tr>\n",
       "      <th>2</th>\n",
       "      <td>2025-03-24 02:00:00</td>\n",
       "      <td>21.2</td>\n",
       "      <td>2</td>\n",
       "    </tr>\n",
       "    <tr>\n",
       "      <th>3</th>\n",
       "      <td>2025-03-24 03:00:00</td>\n",
       "      <td>19.6</td>\n",
       "      <td>2</td>\n",
       "    </tr>\n",
       "    <tr>\n",
       "      <th>4</th>\n",
       "      <td>2025-03-24 04:00:00</td>\n",
       "      <td>19.2</td>\n",
       "      <td>2</td>\n",
       "    </tr>\n",
       "  </tbody>\n",
       "</table>\n",
       "</div>"
      ],
      "text/plain": [
       "                   ds     y unique_id\n",
       "0 2025-03-24 00:00:00  22.2         2\n",
       "1 2025-03-24 01:00:00  20.8         2\n",
       "2 2025-03-24 02:00:00  21.2         2\n",
       "3 2025-03-24 03:00:00  19.6         2\n",
       "4 2025-03-24 04:00:00  19.2         2"
      ]
     },
     "execution_count": 5,
     "metadata": {},
     "output_type": "execute_result"
    }
   ],
   "source": [
    "temp_hourly.head()"
   ]
  },
  {
   "cell_type": "markdown",
   "metadata": {},
   "source": [
    "## Model 1: AutoARIMA\n",
    "\n",
    "Now that the data is setup, let's get started forecasting with the AutoARIMA class."
   ]
  },
  {
   "cell_type": "code",
   "execution_count": 7,
   "metadata": {},
   "outputs": [
    {
     "name": "stdout",
     "output_type": "stream",
     "text": [
      "Validating Data\n",
      "Initializing Model\n",
      "Initializing StatsForecast\n",
      "Fitting Model\n"
     ]
    },
    {
     "name": "stderr",
     "output_type": "stream",
     "text": [
      "UserWarning: possible convergence problem: minimize gave code 2]\n",
      "UserWarning: possible convergence problem: minimize gave code 2]\n",
      "UserWarning: possible convergence problem: minimize gave code 2]\n",
      "UserWarning: possible convergence problem: minimize gave code 2]\n",
      "UserWarning: possible convergence problem: minimize gave code 2]\n",
      "UserWarning: possible convergence problem: minimize gave code 2]\n",
      "UserWarning: possible convergence problem: minimize gave code 2]\n",
      "UserWarning: possible convergence problem: minimize gave code 2]\n",
      "UserWarning: possible convergence problem: minimize gave code 2]\n",
      "UserWarning: possible convergence problem: minimize gave code 2]\n",
      "UserWarning: possible convergence problem: minimize gave code 2]\n",
      "UserWarning: possible convergence problem: minimize gave code 2]\n",
      "UserWarning: possible convergence problem: minimize gave code 2]\n",
      "UserWarning: possible convergence problem: minimize gave code 2]\n",
      "UserWarning: possible convergence problem: minimize gave code 2]\n",
      "UserWarning: possible convergence problem: minimize gave code 2]\n",
      "UserWarning: possible convergence problem: minimize gave code 2]\n",
      "UserWarning: possible convergence problem: minimize gave code 2]\n",
      "UserWarning: possible convergence problem: minimize gave code 2]\n"
     ]
    },
    {
     "name": "stdout",
     "output_type": "stream",
     "text": [
      "Model Fitted\n"
     ]
    },
    {
     "ename": "TypeError",
     "evalue": "StatsForecast.forecast() got an unexpected keyword argument 'horizon'",
     "output_type": "error",
     "traceback": [
      "\u001b[31m---------------------------------------------------------------------------\u001b[39m",
      "\u001b[31mTypeError\u001b[39m                                 Traceback (most recent call last)",
      "\u001b[36mCell\u001b[39m\u001b[36m \u001b[39m\u001b[32mIn[7]\u001b[39m\u001b[32m, line 3\u001b[39m\n\u001b[32m      1\u001b[39m aarima_15m = AutoARIMAForecast(region_name, temp_15m)\n\u001b[32m      2\u001b[39m aarima_15m._fit()\n\u001b[32m----> \u001b[39m\u001b[32m3\u001b[39m \u001b[43maarima_15m\u001b[49m\u001b[43m.\u001b[49m\u001b[43mforecast\u001b[49m\u001b[43m(\u001b[49m\u001b[43mhorizon\u001b[49m\u001b[43m=\u001b[49m\u001b[32;43m96\u001b[39;49m\u001b[43m)\u001b[49m\n\u001b[32m      4\u001b[39m aarima_15m.plot_forecast(horizon=\u001b[32m96\u001b[39m)\n\u001b[32m      6\u001b[39m aarima_15m_res = aarima_15m.evaluate_model()\n",
      "\u001b[36mFile \u001b[39m\u001b[32m~/Documents/github/utilities-dashboard-v3/backend/autoarima.py:123\u001b[39m, in \u001b[36mAutoARIMAForecast.forecast\u001b[39m\u001b[34m(self, horizon)\u001b[39m\n\u001b[32m    120\u001b[39m     \u001b[38;5;28mself\u001b[39m._fit()\n\u001b[32m    122\u001b[39m \u001b[38;5;66;03m# Generate forecasts\u001b[39;00m\n\u001b[32m--> \u001b[39m\u001b[32m123\u001b[39m forecast_df = \u001b[38;5;28;43mself\u001b[39;49m\u001b[43m.\u001b[49m\u001b[43msf\u001b[49m\u001b[43m.\u001b[49m\u001b[43mforecast\u001b[49m\u001b[43m(\u001b[49m\u001b[43mhorizon\u001b[49m\u001b[43m=\u001b[49m\u001b[43mhorizon\u001b[49m\u001b[43m)\u001b[49m\n\u001b[32m    125\u001b[39m \u001b[38;5;28;01mreturn\u001b[39;00m forecast_df\n",
      "\u001b[31mTypeError\u001b[39m: StatsForecast.forecast() got an unexpected keyword argument 'horizon'"
     ]
    }
   ],
   "source": [
    "aarima_15m = AutoARIMAForecast(region_name, temp_15m)\n",
    "aarima_15m._fit()\n",
    "aarima_15m.forecast(horizon=96)\n",
    "aarima_15m.plot_forecast(horizon=96)\n",
    "\n",
    "aarima_15m_res = aarima_15m.evaluate_model()"
   ]
  },
  {
   "cell_type": "code",
   "execution_count": null,
   "metadata": {},
   "outputs": [],
   "source": [
    "aarima_hourly = AutoARIMAForecast(region_name, temp_hourly)\n",
    "aarima_hourly.fit()\n",
    "aarima_hourly.forecast(horizon=24)\n",
    "aarima_hourly.plot_forecast(horizon=24)\n",
    "\n",
    "aarima_hourly_res = aarima_hourly.evaluate_model()"
   ]
  },
  {
   "cell_type": "code",
   "execution_count": null,
   "metadata": {},
   "outputs": [],
   "source": []
  }
 ],
 "metadata": {
  "kernelspec": {
   "display_name": ".venv",
   "language": "python",
   "name": "python3"
  },
  "language_info": {
   "codemirror_mode": {
    "name": "ipython",
    "version": 3
   },
   "file_extension": ".py",
   "mimetype": "text/x-python",
   "name": "python",
   "nbconvert_exporter": "python",
   "pygments_lexer": "ipython3",
   "version": "3.11.11"
  }
 },
 "nbformat": 4,
 "nbformat_minor": 2
}
