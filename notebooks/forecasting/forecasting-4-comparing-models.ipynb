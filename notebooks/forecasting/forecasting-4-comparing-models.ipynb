{
 "cells": [
  {
   "cell_type": "markdown",
   "metadata": {},
   "source": [
    "# Forecasting 4: Comparing Forecasting Techniques\n",
    "\n",
    "The following notebook will compare the AutoARIMA, Prophet, and XGBoost models for predicting weather forecasts. The goal of this is to determine weighting for a mixed approach, where forecasts use weighted predictions of each model that are then averaged to produce a (hopefully) more robust measure.\n",
    "\n",
    "Let's start by importing packages and getting a couple of test datasets, then developing each of the models."
   ]
  },
  {
   "cell_type": "markdown",
   "metadata": {},
   "source": [
    "## 1. Importing Packages and Data"
   ]
  },
  {
   "cell_type": "markdown",
   "metadata": {},
   "source": [
    "### Defining Required Packages and Region Information"
   ]
  },
  {
   "cell_type": "code",
   "execution_count": 10,
   "metadata": {},
   "outputs": [],
   "source": [
    "import numpy as np\n",
    "import pandas as pd\n",
    "import datetime as dt\n",
    "\n",
    "from backend.regionweather import RegionWeather\n",
    "from backend.autoarima import AutoARIMAForecast\n",
    "# from backend.prophet import ProphetForecast\n",
    "# from backend.xgb import XGBoostForecast\n",
    "\n",
    "# Get the weather data for the region\n",
    "region_data = {\n",
    "    'US-FLA-FMPP': {'lat': 28.525581, 'lon': -81.536775, 'alt': 0},\n",
    "    'US-FLA-FPC': {'lat': 28.996695, 'lon': -82.886613, 'alt': 0},\n",
    "    'US-FLA-FPL': {'lat': 27.917488, 'lon': -81.450970, 'alt': 0},\n",
    "    'US-FLA-GVL': {'lat': 29.619310, 'lon': -82.328732, 'alt': 0},\n",
    "    'US-FLA-HST': {'lat': 25.456904, 'lon': -80.588092, 'alt': 0},\n",
    "    'US-FLA-JEA': {'lat': 30.390902, 'lon': -83.679837, 'alt': 0},\n",
    "    'US-FLA-SEC': {'lat': 28.805983, 'lon': -82.306291, 'alt': 0},\n",
    "    'US-FLA-TAL': {'lat': 30.437174, 'lon': -84.248042, 'alt': 0},\n",
    "    'US-FLA-TEC': {'lat': 27.959413, 'lon': -82.144821, 'alt': 0}\n",
    "}"
   ]
  },
  {
   "cell_type": "markdown",
   "metadata": {},
   "source": [
    "### Create RegionWeather Entities"
   ]
  },
  {
   "cell_type": "code",
   "execution_count": null,
   "metadata": {},
   "outputs": [],
   "source": [
    "region_name = list(region_data.keys())[0]\n",
    "region_lat = region_data[region_name]['lat']\n",
    "region_lon = region_data[region_name]['lon']\n",
    "region_alt = region_data[region_name]['alt']\n",
    "\n",
    "end = dt.datetime.now()\n",
    "start = end - dt.timedelta(days=5)\n",
    "\n",
    "# Get the weather data for the region\n",
    "region_weather = RegionWeather(region_name, region_lat, region_lon, region_alt, start, end).to_dict()\n",
    "\n",
    "fifteen = region_weather['df_15m']\n",
    "hourly = region_weather['df_hourly']\n",
    "daily = region_weather['df_daily']"
   ]
  },
  {
   "cell_type": "markdown",
   "metadata": {},
   "source": [
    "### Create Temperature Objects\n",
    "\n",
    "Daily Data is still broken for some reason, I'll have to go back and troubleshoot that later..."
   ]
  },
  {
   "cell_type": "code",
   "execution_count": 12,
   "metadata": {},
   "outputs": [],
   "source": [
    "temp_15m = fifteen['temp'].reset_index().dropna()\n",
    "temp_15m.columns = ['ds', 'y']\n",
    "temp_15m['unique_id'] = '1'\n",
    "\n",
    "temp_hourly = hourly['temp'].reset_index().dropna()\n",
    "temp_hourly.columns = ['ds', 'y']\n",
    "temp_hourly['unique_id'] = '2'"
   ]
  },
  {
   "cell_type": "code",
   "execution_count": null,
   "metadata": {},
   "outputs": [],
   "source": [
    "temp_15m.head()"
   ]
  },
  {
   "cell_type": "code",
   "execution_count": null,
   "metadata": {},
   "outputs": [],
   "source": [
    "temp_hourly.head()"
   ]
  },
  {
   "cell_type": "markdown",
   "metadata": {},
   "source": [
    "Now the data has been prepared, and we can move onto testing the forecasting models."
   ]
  },
  {
   "cell_type": "markdown",
   "metadata": {},
   "source": [
    "## 2. AutoARIMA"
   ]
  },
  {
   "cell_type": "code",
   "execution_count": null,
   "metadata": {},
   "outputs": [],
   "source": [
    "aarima = AutoARIMAForecast(region_name, temp_15m)"
   ]
  },
  {
   "cell_type": "markdown",
   "metadata": {},
   "source": [
    "Now that the model has been fitted, we can forecast futue data."
   ]
  },
  {
   "cell_type": "code",
   "execution_count": null,
   "metadata": {},
   "outputs": [],
   "source": [
    "forecasts = aarima.forecast(level=[95])\n",
    "res = aarima.get_results()\n",
    "summary = aarima.get_model_summary()"
   ]
  },
  {
   "cell_type": "code",
   "execution_count": null,
   "metadata": {},
   "outputs": [],
   "source": [
    "summary"
   ]
  },
  {
   "cell_type": "code",
   "execution_count": null,
   "metadata": {},
   "outputs": [],
   "source": [
    "aarima.plot_forecast()"
   ]
  },
  {
   "cell_type": "code",
   "execution_count": null,
   "metadata": {},
   "outputs": [],
   "source": []
  }
 ],
 "metadata": {
  "kernelspec": {
   "display_name": ".venv",
   "language": "python",
   "name": "python3"
  },
  "language_info": {
   "codemirror_mode": {
    "name": "ipython",
    "version": 3
   },
   "file_extension": ".py",
   "mimetype": "text/x-python",
   "name": "python",
   "nbconvert_exporter": "python",
   "pygments_lexer": "ipython3",
   "version": "3.11.11"
  }
 },
 "nbformat": 4,
 "nbformat_minor": 2
}
